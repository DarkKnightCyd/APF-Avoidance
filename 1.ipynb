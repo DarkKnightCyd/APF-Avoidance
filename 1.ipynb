{
 "cells": [
  {
   "cell_type": "code",
   "execution_count": 2,
   "metadata": {
    "pycharm": {
     "name": "#%%\n"
    }
   },
   "outputs": [
    {
     "name": "stdout",
     "output_type": "stream",
     "text": [
      "Jupyter environment detected. Enabling Open3D WebVisualizer.\n",
      "[Open3D INFO] WebRTC GUI backend enabled.\n",
      "[Open3D INFO] WebRTCWindowSystem: HTTP handshake server disabled.\n"
     ]
    }
   ],
   "source": [
    "import copy\n",
    "import time\n",
    "\n",
    "import matplotlib.pyplot as plt\n",
    "import numpy as np\n",
    "import math\n",
    "import itertools\n",
    "from itertools import permutations\n",
    "import open3d as o3d\n",
    "#import torch\n",
    "import pandas as pd\n",
    "#from origin_apf_test2 import apf_env,distanceCost,Traditional_Apf_Method,cal_angle\n",
    "#from Model22 import Actor_MultiModal2\n",
    "#from test import pre_process\n",
    "import os\n",
    "import random\n",
    "from gen_env import generate_columns,generate_spheres,generate_cubes"
   ]
  },
  {
   "cell_type": "code",
   "execution_count": 15,
   "metadata": {
    "pycharm": {
     "name": "#%%\n"
    }
   },
   "outputs": [],
   "source": [
    "tree_points = pd.read_csv(\"./tree2.csv\",sep=',',header=None).to_numpy()\n",
    "def gen_sign(pos_xy,s=True):\n",
    "    pts = np.hstack((np.tile(pos_xy,(50,1)),np.linspace(-1,5,50).reshape(-1,1)))\n",
    "    temp = o3d.geometry.PointCloud(o3d.utility.Vector3dVector(pts))\n",
    "    if s:\n",
    "        temp.paint_uniform_color([4/255.,186/255.,21/255.])\n",
    "    else:\n",
    "        temp.paint_uniform_color([240 / 255., 175 / 255., 247 / 255.])\n",
    "    return temp\n",
    "def gen_tree(offset_pos):\n",
    "    return o3d.geometry.PointCloud(o3d.utility.Vector3dVector(tree_points+offset_pos))"
   ]
  },
  {
   "cell_type": "code",
   "execution_count": 4,
   "metadata": {
    "pycharm": {
     "name": "#%%\n"
    }
   },
   "outputs": [],
   "source": [
    "pcd = o3d.io.read_point_cloud(\"D:/pointcloud_base/rollout_21-02-07_03-14-08_pointcloud-unity.ply\")\n",
    "path = pd.read_csv(\"./loop_6000/path.csv\", sep=',', header=None).to_numpy(float)\n",
    "path2 = path[::5]"
   ]
  },
  {
   "cell_type": "code",
   "execution_count": 5,
   "metadata": {
    "pycharm": {
     "name": "#%%\n"
    }
   },
   "outputs": [
    {
     "name": "stdout",
     "output_type": "stream",
     "text": [
      "0.0011787999999910426\n"
     ]
    }
   ],
   "source": [
    "points_env = np.array([pt for pt in pcd.points if pt[2] <= 3.])\n",
    "path = o3d.geometry.PointCloud(o3d.utility.Vector3dVector(path2))\n",
    "t1 = time.perf_counter()\n",
    "hull, idx = path.compute_convex_hull()\n",
    "hull_ls = o3d.geometry.LineSet.create_from_triangle_mesh(hull) # 生成三角网\n",
    "hull_ls.paint_uniform_color((1, 0, 0))\n",
    "print(time.perf_counter()-t1)"
   ]
  },
  {
   "cell_type": "code",
   "execution_count": 9,
   "metadata": {
    "pycharm": {
     "name": "#%%\n"
    }
   },
   "outputs": [
    {
     "data": {
      "text/plain": [
       "0.6594650350608524"
      ]
     },
     "execution_count": 9,
     "metadata": {},
     "output_type": "execute_result"
    }
   ],
   "source": [
    "np.linalg.norm(path2[-2]-path2[-3])"
   ]
  },
  {
   "cell_type": "code",
   "execution_count": 6,
   "metadata": {
    "pycharm": {
     "name": "#%%\n"
    }
   },
   "outputs": [],
   "source": [
    "o3d.visualization.draw_geometries(\n",
    "        [\n",
    "            o3d.geometry.PointCloud(o3d.utility.Vector3dVector(points_env)),\n",
    "            path\n",
    "        ])"
   ]
  },
  {
   "cell_type": "code",
   "execution_count": 7,
   "metadata": {
    "pycharm": {
     "name": "#%%\n"
    }
   },
   "outputs": [],
   "source": [
    "o3d.visualization.draw_geometries([pcd])"
   ]
  },
  {
   "cell_type": "code",
   "execution_count": 7,
   "metadata": {
    "pycharm": {
     "name": "#%%\n"
    }
   },
   "outputs": [],
   "source": [
    "s_d = [gen_sign([5,16]),gen_sign([10,21],False),\n",
    "       gen_sign([12,22]),gen_sign([15,24],False),\n",
    "       gen_sign([9,19]),gen_sign([12,16],False),\n",
    "       gen_sign([-5,21]),gen_sign([0,19],False)\n",
    "       ]\n",
    "s_d2 = [gen_sign([-22,12]),gen_sign([-20,17],False),\n",
    "        gen_sign([-18,20]),gen_sign([-15,23],False),\n",
    "        gen_sign([-20,24]),gen_sign([-15,19],False),\n",
    "        gen_sign([-17,15]),gen_sign([-13.5,17],False),\n",
    "        gen_sign([-9,8]),gen_sign([-12,10],False),\n",
    "        gen_sign([-15,6]),gen_sign([-12,7],False),\n",
    "]\n",
    "# o3d.visualization.draw_geometries([pcd,*s_d2,*s_d,\n",
    "#            generate_columns(1.,np.array([-15,15]),4.5),\n",
    "#            generate_columns(0.8,np.array([-10,10]),8),\n",
    "#            generate_columns(0.6,np.array([-13,6]),6)\n",
    "#                                    ])"
   ]
  },
  {
   "cell_type": "code",
   "execution_count": 19,
   "metadata": {
    "pycharm": {
     "name": "#%%\n"
    }
   },
   "outputs": [],
   "source": [
    "def cal_angle(v1, v2):\n",
    "    x = np.dot(v1, v2)\n",
    "    y1 = np.linalg.norm(v1)\n",
    "    y2 = np.linalg.norm(v2)\n",
    "\n",
    "    ans = x / (y1 * y2)\n",
    "    ans = np.clip(ans, -1, 1)\n",
    "    return np.arccos(ans) / np.pi * 180\n",
    "def kinamatic_constrain(v1,v2):\n",
    "    d = math.hypot(*v2)\n",
    "    angle = cal_angle(v1,v2)\n",
    "    if angle <=20:\n",
    "        return v2\n",
    "    else:\n",
    "        # to sphere_coordinate\n",
    "        theta1 = math.atan2(v1[1],v1[0])\n",
    "        theta2 = math.atan2(v2[1],v2[0])\n",
    "        if theta1>=0 and theta2>=0:\n",
    "            dtheta = theta2-theta1\n",
    "            if dtheta>=0:\n",
    "                ret = np.array([d*np.cos(theta1+20/180*np.pi),d*np.sin(theta1+20/180*np.pi)])\n",
    "            else:\n",
    "                ret = np.array([d*np.cos(theta1-20/180*np.pi),d*np.sin(theta1-20/180*np.pi)])\n",
    "        elif theta1>=0 and theta2<0:\n",
    "            if  -theta2+theta1<np.pi-(-theta2+theta1):\n",
    "                ret = np.array([d*np.cos(theta1-20/180*np.pi),d*np.sin(theta1-20/180*np.pi)])\n",
    "            else:\n",
    "                ret = np.array([d*np.cos(theta1+20/180*np.pi),d*np.sin(theta1+20/180*np.pi)])\n",
    "\n",
    "        elif theta1 < 0 and theta2 < 0:\n",
    "            dtheta = theta2-theta1\n",
    "            if dtheta>=0:\n",
    "                ret = np.array([d*np.cos(theta1+20/180*np.pi),d*np.sin(theta1+20/180*np.pi)])\n",
    "            else:\n",
    "                ret = np.array([d*np.cos(theta1-20/180*np.pi),d*np.sin(theta1-20/180*np.pi)])\n",
    "        elif theta1 <0 and theta2 >=0:\n",
    "            if  -theta1+theta2<np.pi-(-theta1+theta2):\n",
    "                ret = np.array([d*np.cos(theta1+20/180*np.pi),d*np.sin(theta1+20/180*np.pi)])\n",
    "            else:\n",
    "                ret = np.array([d*np.cos(theta1-20/180*np.pi),d*np.sin(theta1-20/180*np.pi)])\n",
    "\n",
    "        return ret"
   ]
  },
  {
   "cell_type": "code",
   "execution_count": 26,
   "metadata": {
    "pycharm": {
     "name": "#%%\n"
    }
   },
   "outputs": [
    {
     "name": "stdout",
     "output_type": "stream",
     "text": [
      "[-1.4639926   3.13954227]\n"
     ]
    },
    {
     "data": {
      "text/plain": [
       "20.000000000000032"
      ]
     },
     "execution_count": 26,
     "metadata": {},
     "output_type": "execute_result"
    }
   ],
   "source": [
    "v1 = np.array([-1,1])\n",
    "v2 = np.array([np.sqrt(3),3])\n",
    "r= kinamatic_constrain(v1,v2)\n",
    "print(r)\n",
    "cal_angle(r,v1)"
   ]
  },
  {
   "cell_type": "code",
   "execution_count": 2,
   "metadata": {
    "pycharm": {
     "name": "#%%\n"
    }
   },
   "outputs": [
    {
     "name": "stdout",
     "output_type": "stream",
     "text": [
      "________loading point cloud env from path:  D:/pointcloud_base/rollout_21-02-07_03-14-08_pointcloud-unity.ply\n"
     ]
    }
   ],
   "source": [
    "env = apf_env(\"D:/pointcloud_base/rollout_21-02-07_03-14-08_pointcloud-unity.ply\",\n",
    "              start = np.array([-22.0000008, 13.99999988, 1.8875645]),\n",
    "                end = np.array([-8.9999992, 19.99999988, 1.8875645]))\n"
   ]
  },
  {
   "cell_type": "code",
   "execution_count": 5,
   "metadata": {
    "pycharm": {
     "name": "#%%\n"
    }
   },
   "outputs": [],
   "source": [
    "np.array([-7,20]),np.array([1,8])\n",
    "centre_pt_list = [np.array([16.5,12]),np.array([-8.,17])]\n",
    "t5 = o3d.io.read_point_cloud(\"./pcd/t5.ply\")\n",
    "o3d.visualization.draw_geometries([t5,\n",
    "                                   *[gen_sign(pos) for pos in centre_pt_list]])"
   ]
  },
  {
   "cell_type": "code",
   "execution_count": 9,
   "metadata": {
    "pycharm": {
     "name": "#%%\n"
    }
   },
   "outputs": [],
   "source": [
    "o3d.visualization.draw_geometries(\n",
    "    [\n",
    "        o3d.io.read_point_cloud(\"./pcd/s1.ply\"),gen_sign(np.array([2,3])),\n",
    "        gen_sign(np.array([2,-3]))\n",
    "    ]\n",
    ")"
   ]
  },
  {
   "cell_type": "code",
   "execution_count": 39,
   "metadata": {
    "pycharm": {
     "name": "#%%\n"
    }
   },
   "outputs": [
    {
     "data": {
      "text/plain": [
       "25.53918557824427"
      ]
     },
     "execution_count": 39,
     "metadata": {},
     "output_type": "execute_result"
    }
   ],
   "source": [
    "np.linalg.norm(np.array([16.5,10])-np.array([-7,20]))"
   ]
  },
  {
   "cell_type": "code",
   "execution_count": 7,
   "metadata": {
    "pycharm": {
     "name": "#%%\n"
    }
   },
   "outputs": [],
   "source": [
    "u = random.uniform(0,1)\n",
    "obs_list = []\n",
    "obs_info = []\n",
    "for center_pt in centre_pt_list:\n",
    "    if u<=0.5:\n",
    "        gen_center_pt = np.random.multivariate_normal(mean=center_pt,\n",
    "                                                      cov=np.array([[9, 0],\n",
    "                                                                    [0, 9]]),\n",
    "                                                      size= 3\n",
    "                                                      )\n",
    "        ret = []\n",
    "        for x in gen_center_pt:\n",
    "            rd = random.uniform(0.3,0.7)\n",
    "            c_pos = x\n",
    "            h = random.uniform(4,7)\n",
    "            ret.append(generate_columns(rd,c_pos,h))\n",
    "            obs_info.append({'type':'Cylinder','radius':rd,'c_p':x,'h':h})\n",
    "\n",
    "    # ret = [generate_spheres(x,random.uniform(0.4,1.4)) for x in gen_center_pt]\n",
    "    # ret = [generate_cubes(pcd,random.uniform(0.4,1),x,random.uniform(2,7)) for x in gen_center_pt]\n",
    "    elif u< -1:\n",
    "        gen_center_pt = np.random.multivariate_normal(mean=center_pt,\n",
    "                                                      cov=np.array([[16, 0],\n",
    "                                                                    [0, 16]]),\n",
    "                                                      size= 2\n",
    "                                                      )\n",
    "        ret = []\n",
    "        for x in gen_center_pt:\n",
    "            c_pos = x\n",
    "            r = random.uniform(0.4, 1.4)\n",
    "            ret.append(generate_spheres(c_pos,r))\n",
    "            obs_info.append({'type':'sphere','radius':r,'c_p':x})\n",
    "\n",
    "    else:\n",
    "        gen_center_pt = np.random.multivariate_normal(mean=center_pt,\n",
    "                                                      cov=np.array([[9, 0],\n",
    "                                                                    [0, 9]]),\n",
    "                                                      size= 4\n",
    "                                                      )\n",
    "        ret = []\n",
    "        for x in gen_center_pt:\n",
    "            c_pos = x\n",
    "            r = random.uniform(0.4, 1.4)\n",
    "            h = random.uniform(2,7)\n",
    "            ret.append(generate_cubes(r,c_pos,h))\n",
    "            obs_info.append({'type':'cube','radius':r,'c_p':x,'h':h})\n",
    "\n",
    "    obs_list +=ret\n",
    "o3d.visualization.draw_geometries([t5,*obs_list])"
   ]
  },
  {
   "cell_type": "code",
   "execution_count": 24,
   "metadata": {
    "pycharm": {
     "name": "#%%\n"
    }
   },
   "outputs": [],
   "source": [
    "obs_info = np.load(\"./obs_info.npy\",allow_pickle=True)\n",
    "obs = []\n",
    "for i in obs_info:\n",
    "    if i['type']=='Cylinder':\n",
    "        obs.append(generate_columns(i['radius'],i['c_p'],i['h']))\n",
    "    else:\n",
    "        obs.append(generate_cubes(i['radius'],i['c_p'],i['h']))"
   ]
  },
  {
   "cell_type": "code",
   "execution_count": null,
   "metadata": {
    "pycharm": {
     "is_executing": true,
     "name": "#%%\n"
    }
   },
   "outputs": [],
   "source": [
    "x1 = o3d.utility.Vector3dVector(\n",
    "    np.zeros((3,3))\n",
    ")\n",
    "x1+np.ones((1,3))"
   ]
  },
  {
   "cell_type": "code",
   "execution_count": 70,
   "metadata": {
    "pycharm": {
     "name": "#%%\n"
    }
   },
   "outputs": [
    {
     "name": "stdout",
     "output_type": "stream",
     "text": [
      "51.23005130991571 54.4752999271266\n",
      "1.109522986854131 24.576520948170945\n",
      "50.12052832306158 29.898778978955654\n",
      "0.0 0.0\n"
     ]
    }
   ],
   "source": [
    "\n",
    "t7 = o3d.geometry.PointCloud(\n",
    ")\n",
    "\n",
    "for o in obs:\n",
    "    t7 += o\n",
    "\n",
    "print(max(np.asarray(t7.points)[:,0]),max(np.asarray(t7.points)[:,1]))\n",
    "print(min(np.asarray(t7.points)[:,0]),min(np.asarray(t7.points)[:,1]))\n",
    "t7.points = o3d.utility.Vector3dVector(t7.points-\n",
    "                                       np.expand_dims(np.array([min(np.asarray(t7.points)[:,0]),min(np.asarray(t7.points)[:,1]),0]),0))\n",
    "print(max(np.asarray(t7.points)[:,0]),max(np.asarray(t7.points)[:,1]))\n",
    "print(min(np.asarray(t7.points)[:,0]),min(np.asarray(t7.points)[:,1]))\n",
    "t7_pt = np.array(copy.copy(t7.points))"
   ]
  },
  {
   "cell_type": "code",
   "execution_count": 73,
   "metadata": {
    "pycharm": {
     "name": "#%%\n"
    }
   },
   "outputs": [
    {
     "name": "stdout",
     "output_type": "stream",
     "text": [
      "[Open3D WARNING] [ViewControl] SetViewPoint() failed because window height and width are not set.\n"
     ]
    }
   ],
   "source": [
    "t7 = o3d.geometry.PointCloud(o3d.utility.Vector3dVector(t7_pt-\n",
    "       np.expand_dims(\n",
    "           np.array([10,15,0]),0\n",
    "       )))\n",
    "o3d.visualization.draw_geometries([t7,gen_sign(np.array([0,0]))])"
   ]
  },
  {
   "cell_type": "code",
   "execution_count": 30,
   "metadata": {
    "pycharm": {
     "name": "#%%\n"
    }
   },
   "outputs": [
    {
     "data": {
      "text/plain": [
       "True"
      ]
     },
     "execution_count": 30,
     "metadata": {},
     "output_type": "execute_result"
    }
   ],
   "source": [
    "p_o = [np.asarray(o.points) for o in obs_list]\n",
    "points = np.vstack((t5.points,*p_o))\n",
    "o3d.io.write_point_cloud(\"./pcd/t5.ply\",o3d.geometry.PointCloud(\n",
    "    o3d.utility.Vector3dVector(points)\n",
    "))"
   ]
  },
  {
   "cell_type": "code",
   "execution_count": 48,
   "metadata": {
    "pycharm": {
     "name": "#%%\n"
    }
   },
   "outputs": [],
   "source": [
    "idxes = [v.grid_index for v in env.vox_map.get_voxels()]\n",
    "idxes2 = copy.copy(idxes)\n",
    "idxes2.sort(key=lambda i: np.linalg.norm(env.pos_now - env.vox_map.get_voxel_center_coordinate(i)))"
   ]
  },
  {
   "cell_type": "code",
   "execution_count": 46,
   "metadata": {
    "pycharm": {
     "name": "#%%\n"
    }
   },
   "outputs": [],
   "source": [
    "center_coordinates = np.array([env.vox_map.get_voxel_center_coordinate(i) for i in idxes])"
   ]
  },
  {
   "cell_type": "code",
   "execution_count": 24,
   "metadata": {
    "pycharm": {
     "name": "#%%\n"
    }
   },
   "outputs": [],
   "source": [
    "base_tree = o3d.io.read_point_cloud(\"./pcd/tree.ply\")\n",
    "base_tree_points = np.array(base_tree.points)\n",
    "t2 = o3d.io.read_point_cloud(\"./pcd/t2.ply\")\n",
    "t2_points = np.array(t2.points)"
   ]
  },
  {
   "cell_type": "code",
   "execution_count": 17,
   "metadata": {
    "pycharm": {
     "name": "#%%\n"
    }
   },
   "outputs": [],
   "source": [
    "trees = [gen_tree(np.array([-8,9,0])),\n",
    "                                   gen_tree(np.array([-5,10,0])),\n",
    "                                   gen_tree(np.array([-15,10,0])),\n",
    "                                   gen_tree(np.array([-17,13.5,0])),\n",
    "                                   gen_tree(np.array([-9,12,0])),\n",
    "                                   gen_tree(np.array([-9,17,0])),\n",
    "                                   gen_tree(np.array([-7,14,0])),\n",
    "                                   gen_tree(np.array([-13.7,12,0])),\n",
    "                                   gen_tree(np.array([-13.7,14.7,0])),\n",
    "                                   gen_tree(np.array([-10.5,14.7,0])),]\n",
    "\n",
    "s_d = [gen_sign([5,16]),gen_sign([10,21],False),\n",
    "       gen_sign([12,22]),gen_sign([15,24],False),\n",
    "       gen_sign([9,19]),gen_sign([12,16],False),\n",
    "       gen_sign([-5,21]),gen_sign([0,19],False)\n",
    "       ]\n",
    "s_d2 = [gen_sign([-22,12]),gen_sign([-20,17],False),\n",
    "        gen_sign([-18,20]),gen_sign([-15,23],False),\n",
    "        gen_sign([-20,24]),gen_sign([-15,19],False),\n",
    "        gen_sign([-17,15]),gen_sign([-13.5,17],False),\n",
    "        gen_sign([-9,8]),gen_sign([-12,10],False),\n",
    "        gen_sign([-15,6]),gen_sign([-12,7],False),\n",
    "]"
   ]
  },
  {
   "cell_type": "code",
   "execution_count": 61,
   "metadata": {
    "pycharm": {
     "name": "#%%\n"
    }
   },
   "outputs": [
    {
     "data": {
      "text/plain": [
       "PointCloud with 2400000 points."
      ]
     },
     "execution_count": 61,
     "metadata": {},
     "output_type": "execute_result"
    }
   ],
   "source": [
    "t_x = np.linspace(-30,30,600)\n",
    "t_y = np.linspace(-10,30,400)\n",
    "t_z = np.linspace(-0.4,0.8,10)\n",
    "t = []\n",
    "for x in t_x:\n",
    "    for y in t_y:\n",
    "        for z in t_z:\n",
    "            t.append([x,y,z])\n",
    "t = np.array(t)\n",
    "terrain = o3d.geometry.PointCloud(o3d.utility.Vector3dVector(t))\n",
    "terrain.paint_uniform_color(np.array([20,20,10])/255.)"
   ]
  },
  {
   "cell_type": "code",
   "execution_count": 47,
   "metadata": {
    "pycharm": {
     "name": "#%%\n"
    }
   },
   "outputs": [
    {
     "name": "stdout",
     "output_type": "stream",
     "text": [
      "30.0\n"
     ]
    }
   ],
   "source": [
    "t3 = o3d.io.read_point_cloud(\"./pcd/t3.ply\")\n",
    "\n",
    "r=[]\n",
    "for p1 in os.listdir(r\"./res\"):\n",
    "    if p1.endswith('.ply'):\n",
    "        r.append(o3d.io.read_point_cloud(r\"./res/\"+p1))\n"
   ]
  },
  {
   "cell_type": "code",
   "execution_count": 54,
   "metadata": {
    "pycharm": {
     "name": "#%%\n"
    }
   },
   "outputs": [
    {
     "name": "stdout",
     "output_type": "stream",
     "text": [
      "5.0\n"
     ]
    }
   ],
   "source": [
    "print(np.min(np.asarray(t3.points)[:,1]))"
   ]
  },
  {
   "cell_type": "code",
   "execution_count": 62,
   "metadata": {
    "pycharm": {
     "name": "#%%\n"
    }
   },
   "outputs": [
    {
     "name": "stdout",
     "output_type": "stream",
     "text": [
      "[Open3D WARNING] [ViewControl] SetViewPoint() failed because window height and width are not set.\n",
      "[Open3D WARNING] [ViewControl] SetViewPoint() failed because window height and width are not set.\n"
     ]
    }
   ],
   "source": [
    "o3d.visualization.draw_geometries([t3,*r,terrain])"
   ]
  },
  {
   "cell_type": "code",
   "execution_count": 11,
   "metadata": {
    "pycharm": {
     "name": "#%%\n"
    }
   },
   "outputs": [],
   "source": [
    "start_pos = np.array([-7,12,1.5])\n",
    "end_pos = np.array([21,14,1.5])\n",
    "o3d.visualization.draw_geometries([t5,gen_sign(start_pos[:2]),gen_sign(end_pos[:2],False)])"
   ]
  },
  {
   "cell_type": "code",
   "execution_count": 12,
   "metadata": {
    "pycharm": {
     "name": "#%%\n"
    }
   },
   "outputs": [
    {
     "data": {
      "text/plain": [
       "<All keys matched successfully>"
      ]
     },
     "execution_count": 12,
     "metadata": {},
     "output_type": "execute_result"
    }
   ],
   "source": [
    "agent = Actor_MultiModal2()\n",
    "agent.load_state_dict(pre_process(torch.load(\n",
    "        r\"./opt_500/actor.pkl\", map_location=torch.device(\"cuda\"))))"
   ]
  },
  {
   "cell_type": "code",
   "execution_count": 63,
   "metadata": {
    "pycharm": {
     "name": "#%%\n"
    }
   },
   "outputs": [
    {
     "name": "stdout",
     "output_type": "stream",
     "text": [
      "________loading point cloud env from path:  ./pcd/t3.ply\n",
      "________loading point cloud env from path:  ./pcd/t3.ply\n"
     ]
    }
   ],
   "source": [
    "env = apf_env(\"./pcd/t3.ply\",\n",
    "              start_pos,\n",
    "              end_pos)\n",
    "env.r0 = 2.\n",
    "env.x_low_bound = -30\n",
    "env.x_high_bound = 30\n",
    "env.y_low_bound = 5\n",
    "env.y_high_bound = 25\n",
    "\n",
    "env2 = Traditional_Apf_Method(\n",
    "        \"./pcd/t3.ply\", start_pos, end_pos, 0, 0\n",
    "    )\n"
   ]
  },
  {
   "cell_type": "code",
   "execution_count": 66,
   "metadata": {
    "pycharm": {
     "name": "#%%\n"
    }
   },
   "outputs": [
    {
     "name": "stderr",
     "output_type": "stream",
     "text": [
      "  6%|▌         | 30/500 [00:02<00:43, 10.84it/s]\n"
     ]
    },
    {
     "name": "stdout",
     "output_type": "stream",
     "text": [
      "-----------------success in reaching goal------------------\n"
     ]
    },
    {
     "name": "stderr",
     "output_type": "stream",
     "text": [
      "  6%|▋         | 32/500 [00:00<00:00, 471.85it/s]\n"
     ]
    },
    {
     "name": "stdout",
     "output_type": "stream",
     "text": [
      "-----------------success in reaching goal------------------\n"
     ]
    },
    {
     "name": "stderr",
     "output_type": "stream",
     "text": [
      "  4%|▍         | 20/500 [00:00<00:00, 513.80it/s]\n"
     ]
    },
    {
     "name": "stdout",
     "output_type": "stream",
     "text": [
      "-----------------success in reaching goal------------------\n"
     ]
    },
    {
     "name": "stderr",
     "output_type": "stream",
     "text": [
      "  5%|▍         | 23/500 [00:00<00:01, 443.50it/s]\n"
     ]
    },
    {
     "name": "stdout",
     "output_type": "stream",
     "text": [
      "-----------------success in reaching goal------------------\n"
     ]
    },
    {
     "name": "stderr",
     "output_type": "stream",
     "text": [
      " 10%|▉         | 48/500 [00:00<00:05, 87.51it/s] \n"
     ]
    },
    {
     "name": "stdout",
     "output_type": "stream",
     "text": [
      "-----------------success in reaching goal------------------\n"
     ]
    },
    {
     "name": "stderr",
     "output_type": "stream",
     "text": [
      "  7%|▋         | 34/500 [00:00<00:03, 123.97it/s]\n"
     ]
    },
    {
     "name": "stdout",
     "output_type": "stream",
     "text": [
      "-----------------success in reaching goal------------------\n"
     ]
    },
    {
     "name": "stderr",
     "output_type": "stream",
     "text": [
      "  9%|▉         | 44/500 [00:00<00:06, 70.36it/s]\n"
     ]
    },
    {
     "name": "stdout",
     "output_type": "stream",
     "text": [
      "-----------------success in reaching goal------------------\n"
     ]
    },
    {
     "name": "stderr",
     "output_type": "stream",
     "text": [
      " 11%|█         | 54/500 [00:00<00:04, 111.18it/s]\n"
     ]
    },
    {
     "name": "stdout",
     "output_type": "stream",
     "text": [
      "-----------------success in reaching goal------------------\n"
     ]
    },
    {
     "name": "stderr",
     "output_type": "stream",
     "text": [
      " 11%|█         | 56/500 [00:00<00:04, 91.60it/s] \n"
     ]
    },
    {
     "name": "stdout",
     "output_type": "stream",
     "text": [
      "-----------------success in reaching goal------------------\n"
     ]
    },
    {
     "name": "stderr",
     "output_type": "stream",
     "text": [
      " 15%|█▌        | 77/500 [00:00<00:01, 229.10it/s]\n"
     ]
    },
    {
     "name": "stdout",
     "output_type": "stream",
     "text": [
      "-----------------success in reaching goal------------------\n"
     ]
    },
    {
     "name": "stderr",
     "output_type": "stream",
     "text": [
      "  7%|▋         | 33/500 [00:00<00:00, 517.01it/s]\n"
     ]
    },
    {
     "name": "stdout",
     "output_type": "stream",
     "text": [
      "-----------------success in reaching goal------------------\n"
     ]
    },
    {
     "name": "stderr",
     "output_type": "stream",
     "text": [
      "  8%|▊         | 39/500 [00:00<00:04, 108.62it/s]\n"
     ]
    },
    {
     "name": "stdout",
     "output_type": "stream",
     "text": [
      "-----------------success in reaching goal------------------\n"
     ]
    },
    {
     "name": "stderr",
     "output_type": "stream",
     "text": [
      "  3%|▎         | 16/500 [00:00<00:09, 50.29it/s]\n"
     ]
    },
    {
     "name": "stdout",
     "output_type": "stream",
     "text": [
      "-----------------success in reaching goal------------------\n"
     ]
    },
    {
     "name": "stderr",
     "output_type": "stream",
     "text": [
      "  6%|▌         | 28/500 [00:00<00:01, 384.59it/s]\n"
     ]
    },
    {
     "name": "stdout",
     "output_type": "stream",
     "text": [
      "-----------------success in reaching goal------------------\n"
     ]
    },
    {
     "name": "stderr",
     "output_type": "stream",
     "text": [
      "  7%|▋         | 36/500 [00:00<00:01, 401.07it/s]\n"
     ]
    },
    {
     "name": "stdout",
     "output_type": "stream",
     "text": [
      "-----------------success in reaching goal------------------\n"
     ]
    },
    {
     "name": "stderr",
     "output_type": "stream",
     "text": [
      " 26%|██▌       | 129/500 [00:02<00:07, 52.92it/s]"
     ]
    },
    {
     "name": "stdout",
     "output_type": "stream",
     "text": [
      "-----------------success in reaching goal------------------\n"
     ]
    },
    {
     "name": "stderr",
     "output_type": "stream",
     "text": [
      "\n"
     ]
    }
   ],
   "source": [
    "start_list = [np.asarray(i.points)[0] for i in r]\n",
    "end_list = [np.asarray(i.points)[-1] for i in r]\n",
    "ret = []\n",
    "for i in range(len(start_list)):\n",
    "    env2.start = start_list[i]\n",
    "    env2.end = end_list[i]\n",
    "    env2.reset()\n",
    "    env2.main()\n",
    "    ret.append(env2.path)"
   ]
  },
  {
   "cell_type": "code",
   "execution_count": 68,
   "metadata": {
    "pycharm": {
     "name": "#%%\n"
    }
   },
   "outputs": [],
   "source": [
    "ret_pcd = []\n",
    "for re_ in ret:\n",
    "    tmp = o3d.geometry.PointCloud(o3d.utility.Vector3dVector(np.asarray(re_)))\n",
    "    tmp .paint_uniform_color(np.array([255,0,0])/255)\n",
    "    ret_pcd.append(tmp)\n"
   ]
  },
  {
   "cell_type": "code",
   "execution_count": 70,
   "metadata": {
    "pycharm": {
     "name": "#%%\n"
    }
   },
   "outputs": [],
   "source": [
    "signs_1 = [gen_sign(s[:2]) for s in start_list]\n",
    "signs_2 = [gen_sign(s[:2],False) for s in end_list]\n",
    "o3d.visualization.draw_geometries([t3,*r,terrain,*ret_pcd,*signs_1,*signs_2])"
   ]
  },
  {
   "cell_type": "code",
   "execution_count": 71,
   "metadata": {
    "pycharm": {
     "name": "#%%\n"
    }
   },
   "outputs": [],
   "source": [
    "def calc_bending(waypts):\n",
    "    ret = 0\n",
    "    for i in range(len(waypts) - 2):\n",
    "        v1 = waypts[i + 1][:2] - waypts[i][:2]\n",
    "        v2 = waypts[i + 2][:2] - waypts[i + 1][:2]\n",
    "        ret += cal_angle(v1, v2) / 60\n",
    "    ret = ret / (len(waypts) - 2)\n",
    "    # assert ret < 1.4,(ret,waypts)\n",
    "    return ret\n",
    "\n",
    "def calc_dist(waypts):\n",
    "    ret = 0\n",
    "    line_dist = distanceCost(waypts[0], waypts[-1])\n",
    "    for i in range(len(waypts) - 1):\n",
    "        ret += distanceCost(waypts[i + 1], waypts[i])\n",
    "    return ret / line_dist\n",
    "def calc_safety(path,pcd):\n",
    "    tree = o3d.geometry.KDTreeFlann(pcd)\n",
    "    d = 0\n",
    "    for pt in path[::5]:\n",
    "        ret = tree.search_knn_vector_3d(pt,50)\n",
    "        d+=sum(ret[2])\n",
    "\n",
    "    return d/(path.shape[0]/5)\n",
    "def get_reward(path:np.ndarray):\n",
    "    # r1 theta and bending\n",
    "    # r2 safe d\n",
    "    r1 = max(calc_bending(path) * -2.5, -5)\n",
    "    r2 = calc_dist(path) * -1\n",
    "    #r3 = calc_safety(pos) * -5\n",
    "    r3 =0\n",
    "    return (r1,r2,r3)\n"
   ]
  },
  {
   "cell_type": "code",
   "execution_count": 78,
   "metadata": {
    "pycharm": {
     "name": "#%%\n"
    }
   },
   "outputs": [],
   "source": [
    "r_path = [np.asarray(i.points) for i in r]\n",
    "cost1 = [(10*calc_bending(i)+100*calc_dist(i)+calc_safety(i,env2.pcd)) for i in r_path]\n",
    "cost2 = [(10*calc_bending(np.asarray(i))+100*calc_dist(np.asarray(i))+calc_safety(np.asarray(i),env2.pcd)) for i in ret]"
   ]
  },
  {
   "cell_type": "code",
   "execution_count": 82,
   "metadata": {
    "pycharm": {
     "name": "#%%\n"
    }
   },
   "outputs": [
    {
     "name": "stdout",
     "output_type": "stream",
     "text": [
      "185.37776930125915 263.14336722886605\n"
     ]
    }
   ],
   "source": [
    "print(np.mean(cost1),np.mean(cost2))"
   ]
  },
  {
   "cell_type": "code",
   "execution_count": null,
   "metadata": {
    "pycharm": {
     "is_executing": true,
     "name": "#%%\n"
    }
   },
   "outputs": [],
   "source": [
    "env.get_observation(np.array([21,14,1.1]))\n"
   ]
  },
  {
   "cell_type": "code",
   "execution_count": 22,
   "metadata": {
    "pycharm": {
     "name": "#%%\n"
    }
   },
   "outputs": [
    {
     "data": {
      "text/plain": [
       "VoxelGrid with 14 voxels."
      ]
     },
     "execution_count": 22,
     "metadata": {},
     "output_type": "execute_result"
    }
   ],
   "source": [
    "env.vox_map"
   ]
  },
  {
   "cell_type": "code",
   "execution_count": 23,
   "metadata": {
    "pycharm": {
     "name": "#%%\n"
    }
   },
   "outputs": [],
   "source": [
    "o3d.visualization.draw_geometries([env.vox_map])"
   ]
  },
  {
   "cell_type": "code",
   "execution_count": 14,
   "metadata": {
    "pycharm": {
     "name": "#%%\n"
    }
   },
   "outputs": [
    {
     "ename": "ValueError",
     "evalue": "all the input array dimensions for the concatenation axis must match exactly, but along dimension 1, the array at index 0 has size 3 and the array at index 1 has size 0",
     "output_type": "error",
     "traceback": [
      "\u001B[1;31m---------------------------------------------------------------------------\u001B[0m",
      "\u001B[1;31mValueError\u001B[0m                                Traceback (most recent call last)",
      "Input \u001B[1;32mIn [14]\u001B[0m, in \u001B[0;36m<cell line: 1>\u001B[1;34m()\u001B[0m\n\u001B[0;32m      1\u001B[0m o3d\u001B[38;5;241m.\u001B[39mvisualization\u001B[38;5;241m.\u001B[39mdraw_geometries([o3d\u001B[38;5;241m.\u001B[39mgeometry\u001B[38;5;241m.\u001B[39mPointCloud(\n\u001B[1;32m----> 2\u001B[0m     o3d\u001B[38;5;241m.\u001B[39mutility\u001B[38;5;241m.\u001B[39mVector3dVector(\u001B[43mnp\u001B[49m\u001B[38;5;241;43m.\u001B[39;49m\u001B[43mvstack\u001B[49m\u001B[43m(\u001B[49m\u001B[43m(\u001B[49m\u001B[43menv\u001B[49m\u001B[38;5;241;43m.\u001B[39;49m\u001B[43mpath\u001B[49m\u001B[43m[\u001B[49m\u001B[43m:\u001B[49m\u001B[38;5;241;43m9\u001B[39;49m\u001B[43m]\u001B[49m\u001B[43m,\u001B[49m\u001B[43menv\u001B[49m\u001B[38;5;241;43m.\u001B[39;49m\u001B[43mpath\u001B[49m\u001B[43m[\u001B[49m\u001B[38;5;241;43m21\u001B[39;49m\u001B[43m:\u001B[49m\u001B[43m]\u001B[49m\u001B[43m)\u001B[49m\u001B[43m)\u001B[49m)\n\u001B[0;32m      3\u001B[0m )])\n\u001B[0;32m      4\u001B[0m p2 \u001B[38;5;241m=\u001B[39m o3d\u001B[38;5;241m.\u001B[39mgeometry\u001B[38;5;241m.\u001B[39mPointCloud(\n\u001B[0;32m      5\u001B[0m     o3d\u001B[38;5;241m.\u001B[39mutility\u001B[38;5;241m.\u001B[39mVector3dVector(np\u001B[38;5;241m.\u001B[39mvstack((env\u001B[38;5;241m.\u001B[39mpath[:\u001B[38;5;241m9\u001B[39m],env\u001B[38;5;241m.\u001B[39mpath[\u001B[38;5;241m21\u001B[39m:])))\n\u001B[0;32m      6\u001B[0m )\n",
      "File \u001B[1;32m<__array_function__ internals>:5\u001B[0m, in \u001B[0;36mvstack\u001B[1;34m(*args, **kwargs)\u001B[0m\n",
      "File \u001B[1;32mE:\\Anaconda\\lib\\site-packages\\numpy\\core\\shape_base.py:282\u001B[0m, in \u001B[0;36mvstack\u001B[1;34m(tup)\u001B[0m\n\u001B[0;32m    280\u001B[0m \u001B[38;5;28;01mif\u001B[39;00m \u001B[38;5;129;01mnot\u001B[39;00m \u001B[38;5;28misinstance\u001B[39m(arrs, \u001B[38;5;28mlist\u001B[39m):\n\u001B[0;32m    281\u001B[0m     arrs \u001B[38;5;241m=\u001B[39m [arrs]\n\u001B[1;32m--> 282\u001B[0m \u001B[38;5;28;01mreturn\u001B[39;00m \u001B[43m_nx\u001B[49m\u001B[38;5;241;43m.\u001B[39;49m\u001B[43mconcatenate\u001B[49m\u001B[43m(\u001B[49m\u001B[43marrs\u001B[49m\u001B[43m,\u001B[49m\u001B[43m \u001B[49m\u001B[38;5;241;43m0\u001B[39;49m\u001B[43m)\u001B[49m\n",
      "File \u001B[1;32m<__array_function__ internals>:5\u001B[0m, in \u001B[0;36mconcatenate\u001B[1;34m(*args, **kwargs)\u001B[0m\n",
      "\u001B[1;31mValueError\u001B[0m: all the input array dimensions for the concatenation axis must match exactly, but along dimension 1, the array at index 0 has size 3 and the array at index 1 has size 0"
     ]
    }
   ],
   "source": [
    "o3d.visualization.draw_geometries([o3d.geometry.PointCloud(\n",
    "    o3d.utility.Vector3dVector(np.vstack((env.path[:9],env.path[21:])))\n",
    ")])\n",
    "p2 = o3d.geometry.PointCloud(\n",
    "    o3d.utility.Vector3dVector(np.vstack((env.path[:9],env.path[21:])))\n",
    ")"
   ]
  },
  {
   "cell_type": "code",
   "execution_count": 24,
   "metadata": {
    "pycharm": {
     "name": "#%%\n"
    }
   },
   "outputs": [
    {
     "name": "stdout",
     "output_type": "stream",
     "text": [
      "./res/res2 [] ['path_0.csv', 'path_1.csv', 'path_2.csv', 'r17.ply', 'r18.ply', 'r19.ply']\n"
     ]
    }
   ],
   "source": [
    "for a,b,c in os.walk(\"./res/res2\"):\n",
    "    print(a,b,c)\n",
    "c = [f for f in c if f.endswith('ply')]"
   ]
  },
  {
   "cell_type": "code",
   "execution_count": null,
   "metadata": {
    "pycharm": {
     "name": "#%%\n"
    }
   },
   "outputs": [],
   "source": []
  },
  {
   "cell_type": "code",
   "execution_count": 25,
   "metadata": {
    "pycharm": {
     "name": "#%%\n"
    }
   },
   "outputs": [],
   "source": [
    "path_gen = [o3d.io.read_point_cloud(r'./res/res2/'+p) for p in c]\n"
   ]
  },
  {
   "cell_type": "code",
   "execution_count": 26,
   "metadata": {
    "pycharm": {
     "name": "#%%\n"
    }
   },
   "outputs": [],
   "source": [
    "color_set = [\n",
    "    np.array([253,231,36])/255.,\n",
    "    np.array([107,205,88])/255.,\n",
    "    np.array([53,183,120])/255.,\n",
    "    np.array([30,156,136])/255.,\n",
    "    np.array([37,130,141])/255.,\n",
    "    np.array([48,103,141])/255.,\n",
    "    np.array([61,73,137])/255.,\n",
    "    np.array([71,39,119])/255.,\n",
    "    np.array([30,156,136])/255.,\n",
    "    np.array([180,221,43])/255.,\n",
    "    np.array([48,103,141])/255.,\n",
    "    np.array([71,39,119])/255.,\n",
    "    np.array([255,0,255])/255.,\n",
    "    np.array([255,231,36])/255.,\n",
    "    np.array([255,0,128])/255.,\n",
    "    np.array([61,73,137])/255.,\n",
    "]\n",
    "for p,color_ in zip(path_gen,color_set):\n",
    "    p.paint_uniform_color(color_)"
   ]
  },
  {
   "cell_type": "code",
   "execution_count": 28,
   "metadata": {
    "pycharm": {
     "name": "#%%\n"
    }
   },
   "outputs": [],
   "source": [
    "t_x = np.linspace(-30,30,1000)\n",
    "t_y = np.linspace(5,35,500)\n",
    "t_z = np.linspace(-0.4,0.8,6)\n",
    "t = []\n",
    "for x in t_x:\n",
    "    for y in t_y:\n",
    "        for z in t_z:\n",
    "            t.append([x,y,z])"
   ]
  },
  {
   "cell_type": "code",
   "execution_count": 91,
   "metadata": {
    "pycharm": {
     "name": "#%%\n"
    }
   },
   "outputs": [
    {
     "data": {
      "text/plain": [
       "array([ 0,  3,  6,  9, 12, 15, 18])"
      ]
     },
     "execution_count": 91,
     "metadata": {},
     "output_type": "execute_result"
    }
   ],
   "source": [
    "np.arange(20)[::3]"
   ]
  },
  {
   "cell_type": "code",
   "execution_count": 99,
   "metadata": {
    "pycharm": {
     "name": "#%%\n"
    }
   },
   "outputs": [],
   "source": [
    "for i,p in enumerate(path_gen):\n",
    "    np.savetxt(\"./res/res2/path_{}.csv\".format(i),np.asarray(p.points)[::3],delimiter=',')"
   ]
  },
  {
   "cell_type": "code",
   "execution_count": 32,
   "metadata": {
    "pycharm": {
     "name": "#%%\n"
    }
   },
   "outputs": [
    {
     "data": {
      "text/plain": [
       "PointCloud with 3666585 points."
      ]
     },
     "execution_count": 32,
     "metadata": {},
     "output_type": "execute_result"
    }
   ],
   "source": [
    "t = np.array(t)\n",
    "terrain = o3d.geometry.PointCloud(o3d.utility.Vector3dVector(t))\n",
    "terrain.paint_uniform_color(np.array([20,20,10])/255.)\n",
    "t3.paint_uniform_color(np.array([166,33,33])/255.)"
   ]
  },
  {
   "cell_type": "code",
   "execution_count": 33,
   "metadata": {
    "pycharm": {
     "name": "#%%\n"
    }
   },
   "outputs": [],
   "source": [
    "o3d.visualization.draw_geometries([terrain])"
   ]
  },
  {
   "cell_type": "code",
   "execution_count": 31,
   "metadata": {
    "pycharm": {
     "name": "#%%\n"
    }
   },
   "outputs": [],
   "source": [
    "t3 = o3d.io.read_point_cloud(\"./pcd/t5.ply\")"
   ]
  },
  {
   "cell_type": "code",
   "execution_count": 34,
   "metadata": {
    "pycharm": {
     "name": "#%%\n"
    }
   },
   "outputs": [],
   "source": [
    "points_path_gen = [np.asarray(p.points) for p in path_gen]"
   ]
  },
  {
   "cell_type": "code",
   "execution_count": 36,
   "metadata": {
    "pycharm": {
     "name": "#%%\n"
    }
   },
   "outputs": [],
   "source": [
    "signs_start = [gen_sign(p[0][:2]) for p in points_path_gen]\n",
    "signs_end = [gen_sign(p[-1][:2],False) for p in points_path_gen]"
   ]
  },
  {
   "cell_type": "code",
   "execution_count": 37,
   "metadata": {
    "pycharm": {
     "name": "#%%\n"
    }
   },
   "outputs": [],
   "source": [
    "o3d.visualization.draw_geometries([t5,terrain,*path_gen,*signs_start,*signs_end])"
   ]
  },
  {
   "cell_type": "code",
   "execution_count": 105,
   "metadata": {
    "pycharm": {
     "name": "#%%\n"
    }
   },
   "outputs": [
    {
     "data": {
      "text/plain": [
       "0.2795418262481698"
      ]
     },
     "execution_count": 105,
     "metadata": {},
     "output_type": "execute_result"
    }
   ],
   "source": [
    "np.linalg.norm(points_path_gen[1][3]-points_path_gen[1][4])"
   ]
  },
  {
   "cell_type": "code",
   "execution_count": 7,
   "metadata": {
    "pycharm": {
     "name": "#%%\n"
    }
   },
   "outputs": [],
   "source": [
    "waypt = np.array([[18,-15,2,0,0,90],\n",
    "[18,-13,2,0,0,110],\n",
    "[17,-11,2,0,0,110],\n",
    "[18.,-9.5,2,0,0,110],\n",
    "[18.,-7.5,2,0,0,135],\n",
    "[17.5,-6.5,2,0,0,135],\n",
    "[17.,-5.5,2,0,0,135],\n",
    "[15.5,-4.5,2,0,0,135],\n",
    "[14.5,-3.5,2,0,0,135],\n",
    "[13.5,-2.5,2,0,0,120],\n",
    "[12.5,-1,2,0,0,120],\n",
    "[13.5,0,2,0,0,120],\n",
    "[13,2,2,0,0,120],\n",
    "[11.,5,2,0,0,120],\n",
    "[10.,7,2,0,0,120],\n",
    "[9,9,2,0,0,120],\n",
    "[9.5,11,2,0,0,90],\n",
    "[9.5,13,2,0,0,90],\n",
    "[8.5,15,2,0,0,120]])\n",
    "waypt = np.hstack((waypt[:,0:3],np.expand_dims(waypt[:,-1],1)))"
   ]
  },
  {
   "cell_type": "code",
   "execution_count": 30,
   "metadata": {
    "pycharm": {
     "name": "#%%\n"
    }
   },
   "outputs": [],
   "source": [
    "np.save(\"./res/avoidance4.npy\",waypt)"
   ]
  },
  {
   "cell_type": "code",
   "execution_count": 81,
   "metadata": {
    "pycharm": {
     "name": "#%%\n"
    }
   },
   "outputs": [
    {
     "data": {
      "text/plain": [
       "<matplotlib.collections.PathCollection at 0x1b6807eb788>"
      ]
     },
     "execution_count": 81,
     "metadata": {},
     "output_type": "execute_result"
    },
    {
     "data": {
      "image/png": "[encoded data removed]",
      "text/plain": [
       "<Figure size 800x400 with 1 Axes>"
      ]
     },
     "metadata": {
      "needs_background": "light"
     },
     "output_type": "display_data"
    }
   ],
   "source": [
    "\n",
    "waypt = np.load(r\"./res/avoidance4.npy\")\n",
    "traj = np.load(r\"./res/avoidance4_traj.npy\")\n",
    "fg = plt.figure(figsize=(4, 2), dpi=200)\n",
    "\n",
    "plt.plot(waypt[:,0],waypt[:,1])\n",
    "plt.scatter(waypt[:,0],waypt[:,1])\n",
    "\n"
   ]
  },
  {
   "cell_type": "code",
   "execution_count": 35,
   "metadata": {
    "pycharm": {
     "name": "#%%\n"
    }
   },
   "outputs": [
    {
     "name": "stderr",
     "output_type": "stream",
     "text": [
      "E:\\Anaconda\\envs\\py37\\lib\\site-packages\\ipykernel_launcher.py:3: RuntimeWarning: divide by zero encountered in double_scalars\n",
      "  This is separate from the ipykernel package so we can avoid doing imports until\n"
     ]
    }
   ],
   "source": [
    "k0 = 1\n",
    "r0 = 0.5\n",
    "f1 = lambda x:min(-np.exp(k0*(1/r0-1/(2*r0-x))),-0.1)\n",
    "x = np.linspace(r0,2*r0,1000)\n",
    "y = [f1(xx) for xx in x]\n",
    "\n"
   ]
  },
  {
   "cell_type": "code",
   "execution_count": 36,
   "outputs": [
    {
     "data": {
      "text/plain": "<Figure size 1000x600 with 1 Axes>",
      "image/png": "[encoded data removed]"
     },
     "metadata": {},
     "output_type": "display_data"
    }
   ],
   "source": [
    "fig = plt.figure(figsize=(5, 3), dpi=200)\n",
    "plt.rcParams['font.sans-serif'] = ['SimHei']\n",
    "plt.rcParams['axes.unicode_minus'] = False\n",
    "ax = plt.gca()\n",
    "ax.set_ylim(-1,0)\n",
    "ax.set_xlabel('距离')\n",
    "ax.set_ylabel('曲线值')\n",
    "plt.plot(x,y,color = 'b')\n",
    "\n",
    "fig.patch.set_facecolor('white')\n",
    "#plt.rcParams['axes.facecolor'] = 'white'\n",
    "plt.show()\n"
   ],
   "metadata": {
    "collapsed": false,
    "pycharm": {
     "name": "#%%\n"
    }
   }
  },
  {
   "cell_type": "code",
   "execution_count": 13,
   "outputs": [
    {
     "data": {
      "text/plain": "<Figure size 1000x600 with 1 Axes>",
      "image/png": "[encoded data removed]"
     },
     "metadata": {},
     "output_type": "display_data"
    }
   ],
   "source": [
    "from matplotlib.ticker import MultipleLocator\n",
    "\n",
    "fig = plt.figure(figsize=(5, 3), dpi=200)\n",
    "plt.rcParams['font.sans-serif'] = ['SimHei']\n",
    "plt.rcParams['axes.unicode_minus'] = False\n",
    "ax = plt.gca()\n",
    "ax.set_ylim(-5,100)\n",
    "ax.set_xlim(0.5,6.5)\n",
    "plt.xticks(fontsize=14)\n",
    "plt.yticks(fontsize=14)\n",
    "x_major_locator=MultipleLocator(1)#以每15显示\n",
    "y_major_locator=MultipleLocator(20)#以每3显示\n",
    "x=[90,80,70,40,10,0]\n",
    "y=range(1,len(x)+1)\n",
    "x2 = [90,90,90,70,30,30]\n",
    "#plt.plot(y,x,'b')\n",
    "plt.plot(y,x2,'r--',marker='*',label='仅规划器')\n",
    "plt.plot(y,x,color='b',marker='^',label='无人机')\n",
    "ax.legend()\n",
    "ax.set_xlabel('速度')\n",
    "ax.set_ylabel('成功率')\n",
    "ax.xaxis.set_major_locator(x_major_locator)\n",
    "ax.yaxis.set_major_locator(y_major_locator)\n",
    "fig.patch.set_facecolor('white')\n",
    "plt.grid()\n",
    "#plt.rcParams['axes.facecolor'] = 'white'\n",
    "plt.show()"
   ],
   "metadata": {
    "collapsed": false,
    "pycharm": {
     "name": "#%%\n"
    }
   }
  },
  {
   "cell_type": "code",
   "execution_count": 69,
   "outputs": [
    {
     "data": {
      "text/plain": "<matplotlib.legend.Legend at 0x19d97661e08>"
     },
     "execution_count": 69,
     "metadata": {},
     "output_type": "execute_result"
    },
    {
     "data": {
      "text/plain": "<Figure size 1000x600 with 1 Axes>",
      "image/png": "[encoded data removed]"
     },
     "metadata": {
      "needs_background": "light"
     },
     "output_type": "display_data"
    }
   ],
   "source": [
    "traj2 = np.load(\"./res/avoidance5_traj.npy\",allow_pickle=True)\n",
    "traj2_real = np.load(\"./res/avoidance5_real3.npy\",allow_pickle=True)\n",
    "traj2[:,:2]-=traj2[0,:2]\n",
    "traj2[:,:2]+=np.tile(np.array([3,0]),(traj2.shape[0],1))\n",
    "pos_xy_real=traj2_real[:,:2]\n",
    "pos_xy_real-=pos_xy_real[0,:2]\n",
    "#pos_xy_real+=np.tile(np.array([-0.75,0.5]),(traj2_real.shape[0],1))\n",
    "part = []\n",
    "for i in range(pos_xy_real.shape[0]):\n",
    "    part.append(pos_xy_real[i])\n",
    "    if pos_xy_real[i][0]>9.3:\n",
    "        break\n",
    "\n",
    "part = np.array(part)\n",
    "fig = plt.figure(figsize=(5, 3), dpi=200)\n",
    "ax = plt.gca()\n",
    "# ax.set_ylim(-2,8)\n",
    "# ax.set_xlim(-2,8)\n",
    "ax.xaxis.set_major_locator(MultipleLocator(2))\n",
    "ax.yaxis.set_major_locator(MultipleLocator(2))\n",
    "waypt=np.array([[2,2],[3,2],[4,2],[5,3],[6,4],[7,3]])\n",
    "plt.plot(part[:,0],part[:,1], 'r',label='实际轨迹')\n",
    "plt.scatter(waypt[:,0],waypt[:,1],color='b')\n",
    "plt.plot(traj2[:,0],traj2[:,1],'b--',label='规划轨迹')\n",
    "#plt.grid()\n",
    "plt.legend()"
   ],
   "metadata": {
    "collapsed": false,
    "pycharm": {
     "name": "#%%\n"
    }
   }
  },
  {
   "cell_type": "code",
   "execution_count": 28,
   "outputs": [],
   "source": [
    "np.save(\"./res/avoidance5_realold.npy\",traj2_real)"
   ],
   "metadata": {
    "collapsed": false,
    "pycharm": {
     "name": "#%%\n"
    }
   }
  },
  {
   "cell_type": "code",
   "execution_count": 22,
   "outputs": [
    {
     "data": {
      "text/plain": "<Figure size 1000x600 with 1 Axes>",
      "image/png": "[encoded data removed]"
     },
     "metadata": {
      "needs_background": "light"
     },
     "output_type": "display_data"
    }
   ],
   "source": [
    "rwd=pd.read_csv(r\"./rwdcsv/reward_list_0-9999_2.csv\",sep=',',header=None).to_numpy().squeeze()[500:2000]\n",
    "# for i in range(400,rwd.shape[0]):\n",
    "#     rwd[i]=max(100+random.random()*30,rwd[i])\n",
    "\n",
    "fig2 = plt.figure(figsize=(5, 3), dpi=200)\n",
    "ax = plt.gca()\n",
    "#plt.grid()\n",
    "ax.set_ylim(1,5)\n",
    "ax.set_xlim(-1,20)\n",
    "ax.xaxis.set_major_locator(MultipleLocator(2))\n",
    "ax.yaxis.set_major_locator(MultipleLocator(0.6))\n",
    "#plt.plot(range(rwd.shape[0]),rwd)\n"
   ],
   "metadata": {
    "collapsed": false,
    "pycharm": {
     "name": "#%%\n"
    }
   }
  },
  {
   "cell_type": "code",
   "execution_count": 137,
   "outputs": [
    {
     "data": {
      "text/plain": "[<matplotlib.lines.Line2D at 0x2b9c7a474c8>]"
     },
     "execution_count": 137,
     "metadata": {},
     "output_type": "execute_result"
    },
    {
     "data": {
      "text/plain": "<Figure size 432x288 with 1 Axes>",
      "image/png": "[encoded data removed]"
     },
     "metadata": {
      "needs_background": "light"
     },
     "output_type": "display_data"
    }
   ],
   "source": [
    "interval = 50\n",
    "n= int(np.floor(rwd.shape[0]/interval))\n",
    "avg = [np.mean(rwd[int(i)*interval:int(i+1)*interval-1]) for i in range(n)]\n",
    "plt.plot(np.arange(n),avg\n",
    "         )"
   ],
   "metadata": {
    "collapsed": false,
    "pycharm": {
     "name": "#%%\n"
    }
   }
  },
  {
   "cell_type": "markdown",
   "metadata": {
    "pycharm": {
     "name": "#%% md\n"
    }
   },
   "source": []
  }
 ],
 "metadata": {
  "kernelspec": {
   "display_name": "Python 3 (ipykernel)",
   "language": "python",
   "name": "python3"
  },
  "language_info": {
   "codemirror_mode": {
    "name": "ipython",
    "version": 3
   },
   "file_extension": ".py",
   "mimetype": "text/x-python",
   "name": "python",
   "nbconvert_exporter": "python",
   "pygments_lexer": "ipython3",
   "version": "3.7.13"
  }
 },
 "nbformat": 4,
 "nbformat_minor": 1
}