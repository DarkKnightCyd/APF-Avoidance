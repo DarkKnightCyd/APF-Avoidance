{
 "cells": [
  {
   "cell_type": "code",
   "execution_count": 1,
   "metadata": {
    "collapsed": true
   },
   "outputs": [
    {
     "name": "stdout",
     "output_type": "stream",
     "text": [
      "Jupyter environment detected. Enabling Open3D WebVisualizer.\n",
      "[Open3D INFO] WebRTC GUI backend enabled.\n",
      "[Open3D INFO] WebRTCWindowSystem: HTTP handshake server disabled.\n"
     ]
    }
   ],
   "source": [
    "import copy\n",
    "import time\n",
    "import numpy as np\n",
    "import math\n",
    "import itertools\n",
    "from itertools import permutations\n",
    "import open3d as o3d\n",
    "#import torch\n",
    "import pandas as pd\n",
    "from origin_apf_test2 import apf_env,distanceCost,Traditional_Apf_Method,cal_angle\n",
    "#from Model22 import Actor_MultiModal2\n",
    "#from test import pre_process\n",
    "import os\n",
    "import random\n",
    "import matplotlib.pyplot as plt\n",
    "from gen_env import generate_columns,generate_spheres,generate_cubes,gen_sign"
   ]
  },
  {
   "cell_type": "code",
   "execution_count": 4,
   "outputs": [],
   "source": [
    "forest=o3d.io.read_point_cloud(\"./pcd/rollout_21-02-07_03-14-08_pointcloud-unity.ply\")\n",
    "pts = [p for p in np.asarray(forest.points) if p[2]<3]\n",
    "forest_ = o3d.geometry.PointCloud(\n",
    "o3d.utility.Vector3dVector( np.asarray(forest.points))\n",
    ")\n",
    "o3d.visualization.draw_geometries([forest_\n",
    "    ,\n",
    "    gen_sign(np.array([10,20])),gen_sign(np.array([20,10]))\n",
    "])"
   ],
   "metadata": {
    "collapsed": false,
    "pycharm": {
     "name": "#%%\n"
    }
   }
  },
  {
   "cell_type": "code",
   "execution_count": 6,
   "outputs": [
    {
     "data": {
      "text/plain": "PointCloud with 360000 points."
     },
     "execution_count": 6,
     "metadata": {},
     "output_type": "execute_result"
    }
   ],
   "source": [
    "t_x = np.linspace(-10,20,300)\n",
    "t_y = np.linspace(-10,10,200)\n",
    "t_z = np.linspace(-0.4,0.4,6)\n",
    "t = []\n",
    "for x in t_x:\n",
    "    for y in t_y:\n",
    "        for z in t_z:\n",
    "            t.append([x,y,z])\n",
    "t = np.array(t)\n",
    "terrain = o3d.geometry.PointCloud(o3d.utility.Vector3dVector(t))\n",
    "terrain.paint_uniform_color(np.array([20,20,10])/255.)"
   ],
   "metadata": {
    "collapsed": false,
    "pycharm": {
     "name": "#%%\n"
    }
   }
  },
  {
   "cell_type": "code",
   "execution_count": 16,
   "outputs": [],
   "source": [
    "wall = [generate_cubes(0.5,np.array([i,1.]),5) for i in range(3)]+[generate_cubes(0.5,np.array([i,0.]),5) for i in range(3)]\n",
    "\n",
    "wall_pt = [np.asarray(w.points) for w in wall]\n",
    "wall_pt = np.asarray(wall_pt).reshape(-1,3)\n",
    "wall_pcd = o3d.geometry.PointCloud(o3d.utility.Vector3dVector(wall_pt))\n",
    "# o3d.visualization.draw_geometries([*wall,terrain])\n",
    "# o3d.visualization.draw_geometries([wall_pcd])"
   ],
   "metadata": {
    "collapsed": false,
    "pycharm": {
     "name": "#%%\n"
    }
   }
  },
  {
   "cell_type": "code",
   "execution_count": 21,
   "outputs": [
    {
     "data": {
      "text/plain": "True"
     },
     "execution_count": 21,
     "metadata": {},
     "output_type": "execute_result"
    }
   ],
   "source": [
    "wall2 = [generate_cubes(0.5,np.array([i,1.]),5) for i in range(3) ]+\\\n",
    "        [generate_cubes(0.2,np.array([-0.3,1.7]),5),\n",
    "         generate_cubes(0.2,np.array([2.3,2.1]),5),\n",
    "         generate_cubes(0.2,np.array([-0.3,2.1]),5),\n",
    "         generate_cubes(0.2,np.array([2.3,1.7]),5),\n",
    "         ]\n",
    "o=o3d.geometry.PointCloud()\n",
    "for w in wall2:\n",
    "    o+=w\n",
    "o+=terrain\n",
    "o3d.io.write_point_cloud(\"./pcd/s2.ply\",o)"
   ],
   "metadata": {
    "collapsed": false,
    "pycharm": {
     "name": "#%%\n"
    }
   }
  },
  {
   "cell_type": "code",
   "execution_count": 7,
   "outputs": [],
   "source": [
    "o3d.visualization.draw_geometries(\n",
    "    [\n",
    "        o3d.io.read_point_cloud(\"./pcd/s2.ply\"),gen_sign(np.array([1.2,2])),\n",
    "        gen_sign(np.array([-2,0.5])),\n",
    "        gen_sign(np.array([2,-3]))\n",
    "    ]\n",
    ")"
   ],
   "metadata": {
    "collapsed": false,
    "pycharm": {
     "name": "#%%\n"
    }
   }
  },
  {
   "cell_type": "code",
   "execution_count": 99,
   "outputs": [
    {
     "data": {
      "text/plain": "3.6274999999999964"
     },
     "execution_count": 99,
     "metadata": {},
     "output_type": "execute_result"
    }
   ],
   "source": [
    "tree = o3d.geometry.KDTreeFlann(wall_pcd)\n",
    "ret=tree.search_knn_vector_3d(np.array([0,0,6]),10)\n",
    "sum(ret[2])"
   ],
   "metadata": {
    "collapsed": false,
    "pycharm": {
     "name": "#%%\n"
    }
   }
  },
  {
   "cell_type": "code",
   "execution_count": 102,
   "outputs": [],
   "source": [
    "\n",
    "def calc_bending(waypts):\n",
    "    ret = 0\n",
    "    for i in range(len(waypts) - 2):\n",
    "        v1 = waypts[i + 1][:2] - waypts[i][:2]\n",
    "        v2 = waypts[i + 2][:2] - waypts[i + 1][:2]\n",
    "        ret += cal_angle(v1, v2) / 60\n",
    "    ret = ret / (len(waypts) - 2)\n",
    "    # assert ret < 1.4,(ret,waypts)\n",
    "    return ret\n",
    "\n",
    "def calc_dist(waypts):\n",
    "    ret = 0\n",
    "    line_dist = distanceCost(waypts[0], waypts[-1])\n",
    "    for i in range(len(waypts) - 1):\n",
    "        ret += distanceCost(waypts[i + 1], waypts[i])\n",
    "    return ret / line_dist\n",
    "def calc_safety(path,pcd):\n",
    "    tree = o3d.geometry.KDTreeFlann(pcd)\n",
    "    d = 0\n",
    "    for pt in path[::5]:\n",
    "        ret = tree.search_knn_vector_3d(pt,50)\n",
    "        d+=sum(ret[2])\n",
    "\n",
    "    return d/(path.shape[0]/5)\n",
    "def get_reward(path:np.ndarray):\n",
    "    # r1 theta and bending\n",
    "    # r2 safe d\n",
    "    r1 = max(calc_bending(path) * -2.5, -5)\n",
    "    r2 = calc_dist(path) * -1\n",
    "    #r3 = calc_safety(pos) * -5\n",
    "    r3 =0\n",
    "    return (r1,r2,r3)"
   ],
   "metadata": {
    "collapsed": false,
    "pycharm": {
     "name": "#%%\n"
    }
   }
  },
  {
   "cell_type": "code",
   "execution_count": 53,
   "outputs": [],
   "source": [
    "path1 = np.hstack((np.linspace(0,10,100).reshape(-1,1),np.array([0]*100).reshape(-1,1),np.array([1]*100).reshape(-1,1)))\n",
    "x =  np.linspace(0,10,100)\n",
    "for i in range(8,11):\n",
    "    exec(f'f{i}= lambda x: math.sin(2*math.pi/10*x)*0.5*(i+1)')\n",
    "    exec(f'path{i}=np.hstack((x.reshape(-1,1),np.array([f{i}(e) for e in x]).reshape(-1,1),np.array([1]*100).reshape(-1,1)))')\n",
    "l = [exec(f'path{i}') for i in range(8)]\n",
    "for i in range(8):\n",
    "    np.savetxt(f\"./res/res3/path{i}.csv\",eval(f'path{i}'),delimiter=',')"
   ],
   "metadata": {
    "collapsed": false,
    "pycharm": {
     "name": "#%%\n"
    }
   }
  },
  {
   "cell_type": "code",
   "execution_count": 55,
   "outputs": [],
   "source": [
    "r = []\n",
    "\n",
    "for i in range(8,15):\n",
    "    v = eval(f'path{i}')\n",
    "    r.append((calc_dist(v),calc_bending(v)))\n",
    "r2 = np.array([sum(x) for x in r])\n"
   ],
   "metadata": {
    "collapsed": false,
    "pycharm": {
     "name": "#%%\n"
    }
   }
  },
  {
   "cell_type": "code",
   "execution_count": 103,
   "outputs": [],
   "source": [
    "r = []\n",
    "for i in range(8,15):\n",
    "    v = eval(f'path{i}')\n",
    "    r.append(calc_safety(v,wall_pcd))\n"
   ],
   "metadata": {
    "collapsed": false,
    "pycharm": {
     "name": "#%%\n"
    }
   }
  },
  {
   "cell_type": "code",
   "execution_count": 5,
   "outputs": [
    {
     "ename": "NameError",
     "evalue": "name 'path1' is not defined",
     "output_type": "error",
     "traceback": [
      "\u001B[1;31m---------------------------------------------------------------------------\u001B[0m",
      "\u001B[1;31mNameError\u001B[0m                                 Traceback (most recent call last)",
      "Input \u001B[1;32mIn [5]\u001B[0m, in \u001B[0;36m<cell line: 1>\u001B[1;34m()\u001B[0m\n\u001B[0;32m      1\u001B[0m \u001B[38;5;28;01mfor\u001B[39;00m i \u001B[38;5;129;01min\u001B[39;00m \u001B[38;5;28mrange\u001B[39m(\u001B[38;5;241m8\u001B[39m,\u001B[38;5;241m15\u001B[39m):\n\u001B[0;32m      2\u001B[0m     exec(\u001B[38;5;124mf\u001B[39m\u001B[38;5;124m'\u001B[39m\u001B[38;5;124mf\u001B[39m\u001B[38;5;132;01m{\u001B[39;00mi\u001B[38;5;132;01m}\u001B[39;00m\u001B[38;5;124m= lambda x: x+np.array([0,-1.5-0.3*(i-7),1])\u001B[39m\u001B[38;5;124m'\u001B[39m)\n\u001B[1;32m----> 3\u001B[0m     \u001B[43mexec\u001B[49m\u001B[43m(\u001B[49m\u001B[38;5;124;43mf\u001B[39;49m\u001B[38;5;124;43m'\u001B[39;49m\u001B[38;5;124;43mpath\u001B[39;49m\u001B[38;5;132;43;01m{\u001B[39;49;00m\u001B[43mi\u001B[49m\u001B[38;5;132;43;01m}\u001B[39;49;00m\u001B[38;5;124;43m= f\u001B[39;49m\u001B[38;5;132;43;01m{\u001B[39;49;00m\u001B[43mi\u001B[49m\u001B[38;5;132;43;01m}\u001B[39;49;00m\u001B[38;5;124;43m(path1)\u001B[39;49m\u001B[38;5;124;43m'\u001B[39;49m\u001B[43m)\u001B[49m\n\u001B[0;32m      4\u001B[0m l \u001B[38;5;241m=\u001B[39m [exec(\u001B[38;5;124mf\u001B[39m\u001B[38;5;124m'\u001B[39m\u001B[38;5;124mpath\u001B[39m\u001B[38;5;132;01m{\u001B[39;00mi\u001B[38;5;132;01m}\u001B[39;00m\u001B[38;5;124m'\u001B[39m) \u001B[38;5;28;01mfor\u001B[39;00m i \u001B[38;5;129;01min\u001B[39;00m \u001B[38;5;28mrange\u001B[39m(\u001B[38;5;241m8\u001B[39m)]\n\u001B[0;32m      5\u001B[0m \u001B[38;5;28;01mfor\u001B[39;00m i \u001B[38;5;129;01min\u001B[39;00m \u001B[38;5;28mrange\u001B[39m(\u001B[38;5;241m8\u001B[39m,\u001B[38;5;241m15\u001B[39m):\n",
      "File \u001B[1;32m<string>:1\u001B[0m, in \u001B[0;36m<module>\u001B[1;34m\u001B[0m\n",
      "\u001B[1;31mNameError\u001B[0m: name 'path1' is not defined"
     ]
    }
   ],
   "source": [
    "for i in range(8,15):\n",
    "    exec(f'f{i}= lambda x: x+np.array([0,-1.5-0.3*(i-7),1])')\n",
    "    exec(f'path{i}= f{i}(path1)')\n",
    "l = [exec(f'path{i}') for i in range(8)]\n",
    "for i in range(8,15):\n",
    "    np.savetxt(f\"./res/res3/path{i}.csv\",eval(f'path{i}'),delimiter=',')"
   ],
   "metadata": {
    "collapsed": false,
    "pycharm": {
     "name": "#%%\n"
    }
   }
  },
  {
   "cell_type": "code",
   "execution_count": 4,
   "outputs": [
    {
     "ename": "NameError",
     "evalue": "name 'path8' is not defined",
     "output_type": "error",
     "traceback": [
      "\u001B[1;31m---------------------------------------------------------------------------\u001B[0m",
      "\u001B[1;31mNameError\u001B[0m                                 Traceback (most recent call last)",
      "Input \u001B[1;32mIn [4]\u001B[0m, in \u001B[0;36m<cell line: 1>\u001B[1;34m()\u001B[0m\n\u001B[1;32m----> 1\u001B[0m path_list2 \u001B[38;5;241m=\u001B[39m [\u001B[43mpath8\u001B[49m,path9,path10,path11,path12,path13,path14]\n\u001B[0;32m      2\u001B[0m path_list2_pcd \u001B[38;5;241m=\u001B[39m [o3d\u001B[38;5;241m.\u001B[39mgeometry\u001B[38;5;241m.\u001B[39mPointCloud(o3d\u001B[38;5;241m.\u001B[39mutility\u001B[38;5;241m.\u001B[39mVector3dVector(ele)) \u001B[38;5;28;01mfor\u001B[39;00m ele \u001B[38;5;129;01min\u001B[39;00m path_list2]\n",
      "\u001B[1;31mNameError\u001B[0m: name 'path8' is not defined"
     ]
    }
   ],
   "source": [
    "path_list2 = [path8,path9,path10,path11,path12,path13,path14]\n",
    "path_list2_pcd = [o3d.geometry.PointCloud(o3d.utility.Vector3dVector(ele)) for ele in path_list2]"
   ],
   "metadata": {
    "collapsed": false,
    "pycharm": {
     "name": "#%%\n"
    }
   }
  },
  {
   "cell_type": "code",
   "execution_count": 94,
   "outputs": [],
   "source": [
    "color_ = [np.array([247,208,59])/255.,\n",
    "          np.array([250,157,58])/255.,\n",
    "          np.array([236,120,83])/255.,\n",
    "          np.array([215,86,107])/255.,\n",
    "          np.array([188,54,132])/255.,\n",
    "          np.array([155,23,159])/255.,\n",
    "          np.array([114,0,169])/255.,]\n",
    "for x,c in zip(path_list2_pcd,color_):\n",
    "    x.paint_uniform_color(c)\n",
    "o3d.visualization.draw_geometries([*path_list2_pcd,*wall,terrain])"
   ],
   "metadata": {
    "collapsed": false,
    "pycharm": {
     "name": "#%%\n"
    }
   }
  },
  {
   "cell_type": "code",
   "execution_count": 104,
   "outputs": [
    {
     "data": {
      "text/plain": "4.862287869187006"
     },
     "execution_count": 104,
     "metadata": {},
     "output_type": "execute_result"
    }
   ],
   "source": [
    "0.01*(r[-1]-r[0])"
   ],
   "metadata": {
    "collapsed": false,
    "pycharm": {
     "name": "#%%\n"
    }
   }
  },
  {
   "cell_type": "code",
   "execution_count": 58,
   "outputs": [],
   "source": [
    "np.savetxt(\"./res/res3/rew.csv\",np.linspace(r2[0],r2[-1],500),delimiter=',')\n",
    "6.74-(x-1)/256*4.862287869187006"
   ],
   "metadata": {
    "collapsed": false,
    "pycharm": {
     "name": "#%%\n"
    }
   }
  },
  {
   "cell_type": "code",
   "execution_count": 11,
   "outputs": [],
   "source": [
    "path13=pd.read_csv(\"./res/path13.csv\",sep=',',header=None).to_numpy()\n",
    "path13=path13[::2]\n",
    "o3d.visualization.draw_geometries([\n",
    "    o3d.io.read_point_cloud(r\"./pcd/t3.ply\"),\n",
    "    #o3d.io.read_point_cloud(r\"./res/r13.ply\")\n",
    "    o3d.geometry.PointCloud(o3d.utility.Vector3dVector(np.asarray(path13)))\n",
    "])"
   ],
   "metadata": {
    "collapsed": false,
    "pycharm": {
     "name": "#%%\n"
    }
   }
  }
 ],
 "metadata": {
  "kernelspec": {
   "display_name": "Python 3",
   "language": "python",
   "name": "python3"
  },
  "language_info": {
   "codemirror_mode": {
    "name": "ipython",
    "version": 2
   },
   "file_extension": ".py",
   "mimetype": "text/x-python",
   "name": "python",
   "nbconvert_exporter": "python",
   "pygments_lexer": "ipython2",
   "version": "2.7.6"
  }
 },
 "nbformat": 4,
 "nbformat_minor": 0
}